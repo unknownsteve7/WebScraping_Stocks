{
 "cells": [
  {
   "cell_type": "markdown",
   "id": "4156a2f3-53af-4c02-9faa-1681309197b2",
   "metadata": {},
   "source": [
    "# Importing Libraries"
   ]
  },
  {
   "cell_type": "code",
   "execution_count": 21,
   "id": "eef3de81-3feb-4052-a133-a2591f2fac8d",
   "metadata": {},
   "outputs": [],
   "source": [
    "import yfinance as yf\n",
    "import pandas as pd"
   ]
  },
  {
   "cell_type": "markdown",
   "id": "2ad26112-8727-43ff-a6eb-d35eb6419377",
   "metadata": {},
   "source": [
    "#### Stock Details"
   ]
  },
  {
   "cell_type": "code",
   "execution_count": null,
   "id": "84d4a3dc-1577-42f4-8043-5633289b9040",
   "metadata": {},
   "outputs": [],
   "source": [
    "stocks = ['AAPL', 'TSLA', 'GOOGL', 'MSFT', 'RELIANCE.NS']"
   ]
  },
  {
   "cell_type": "code",
   "execution_count": 23,
   "id": "99e15ec1-3767-4dca-a6a6-2dfd1a37561b",
   "metadata": {},
   "outputs": [
    {
     "name": "stdout",
     "output_type": "stream",
     "text": [
      "Scraped : AAPL\n",
      "Scraped : TSLA\n",
      "Scraped : GOOGL\n",
      "Scraped : MSFT\n",
      "Scraped : RELIANCE.NS\n",
      "{'Stock': 'AAPL', 'Price': 196.45, 'P/E Ratio': 30.599688, 'Market Cap': 2934137946112, 'Volume': 50778564}\n"
     ]
    }
   ],
   "source": [
    "data = []\n",
    "for symbol in stocks:\n",
    "    stock = yf.Ticker(symbol)\n",
    "    info = stock.info\n",
    "    data.append({\n",
    "        'Stock': symbol,\n",
    "        'Price': info.get('regularMarketPrice'),\n",
    "        'P/E Ratio': info.get('trailingPE'),\n",
    "        'Market Cap': info.get('marketCap'),\n",
    "        'Volume': info.get('volume')\n",
    "    })\n",
    "    print(f\"Scraped : {symbol}\")\n",
    "print(data[0],end=\"\\n\")\n"
   ]
  },
  {
   "cell_type": "markdown",
   "id": "5fa480e2-1617-476f-a96c-adc293c56bcb",
   "metadata": {},
   "source": [
    "#### Export to Excel"
   ]
  },
  {
   "cell_type": "code",
   "execution_count": null,
   "id": "7c1b9658-51a7-4dd1-a65d-25500fdbca31",
   "metadata": {},
   "outputs": [],
   "source": [
    "df = pd.DataFrame(data)\n",
    "df.to_excel(\"yahoo_stocks.xlsx\", index=False)"
   ]
  }
 ],
 "metadata": {
  "kernelspec": {
   "display_name": "Python 3 (ipykernel)",
   "language": "python",
   "name": "python3"
  },
  "language_info": {
   "codemirror_mode": {
    "name": "ipython",
    "version": 3
   },
   "file_extension": ".py",
   "mimetype": "text/x-python",
   "name": "python",
   "nbconvert_exporter": "python",
   "pygments_lexer": "ipython3",
   "version": "3.13.2"
  }
 },
 "nbformat": 4,
 "nbformat_minor": 5
}
